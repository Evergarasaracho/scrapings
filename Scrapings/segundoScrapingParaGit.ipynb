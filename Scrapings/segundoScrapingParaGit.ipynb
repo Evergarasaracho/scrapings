{
 "cells": [
  {
   "cell_type": "code",
   "execution_count": 239,
   "metadata": {},
   "outputs": [],
   "source": [
    "import pandas as pd\n",
    "import requests\n",
    "import re\n",
    "from bs4 import BeautifulSoup"
   ]
  },
  {
   "cell_type": "code",
   "execution_count": 240,
   "metadata": {},
   "outputs": [
    {
     "name": "stdout",
     "output_type": "stream",
     "text": [
      "['https://quotes.toscrape.com/page/1/', 'https://quotes.toscrape.com/page/2/', 'https://quotes.toscrape.com/page/3/', 'https://quotes.toscrape.com/page/4/', 'https://quotes.toscrape.com/page/5/', 'https://quotes.toscrape.com/page/6/', 'https://quotes.toscrape.com/page/7/', 'https://quotes.toscrape.com/page/8/', 'https://quotes.toscrape.com/page/9/', 'https://quotes.toscrape.com/page/10/']\n"
     ]
    }
   ],
   "source": [
    "urlLinks = []\n",
    "\n",
    "for i in range(1,11):\n",
    "    url = f'https://quotes.toscrape.com/page/{i}/'\n",
    "    urlLinks.append(url)\n",
    "print(urlLinks)"
   ]
  },
  {
   "cell_type": "code",
   "execution_count": 241,
   "metadata": {},
   "outputs": [],
   "source": [
    "authors = []\n",
    "tags = []\n",
    "tweets = []"
   ]
  },
  {
   "cell_type": "code",
   "execution_count": 242,
   "metadata": {},
   "outputs": [],
   "source": [
    "def dataExtraction():\n",
    "    listCleaning()\n",
    "\n",
    "def listCleaning():    \n",
    "    authors.clear()\n",
    "    tags.clear()\n",
    "    tweets.clear()\n",
    "    urlGenerator()\n",
    "\n",
    "def urlGenerator():\n",
    "    for url in urlLinks:\n",
    "        req = requests.get(url)\n",
    "        soup = BeautifulSoup(req.text,'html')\n",
    "        table = soup.find_all('div', {'class','quote'})\n",
    "        getData(table)\n",
    "\n",
    "def getData(table):\n",
    "    for i in table:\n",
    "        author = i.find('small', {'class','author'}).text\n",
    "        authors.append(author)\n",
    "\n",
    "    for i in table:\n",
    "        tag = str(i.find('meta', {'class', 'keywords'})['content']).replace(',',', ')\n",
    "        tags.append(tag)\n",
    "\n",
    "    for i in table:\n",
    "        text = i.find('span',{'class','text'}).text\n",
    "        tweets.append(text)"
   ]
  },
  {
   "cell_type": "code",
   "execution_count": 243,
   "metadata": {},
   "outputs": [
    {
     "name": "stdout",
     "output_type": "stream",
     "text": [
      "100\n",
      "100\n",
      "100\n"
     ]
    }
   ],
   "source": [
    "dataExtraction()\n",
    "print(len(authors))\n",
    "print(len(tags))\n",
    "print(len(tweets))"
   ]
  },
  {
   "cell_type": "code",
   "execution_count": 244,
   "metadata": {},
   "outputs": [
    {
     "name": "stdout",
     "output_type": "stream",
     "text": [
      "               Authors                                             Tweets  \\\n",
      "0      Albert Einstein  “The world as we have created it is a process ...   \n",
      "1         J.K. Rowling  “It is our choices, Harry, that show what we t...   \n",
      "2      Albert Einstein  “There are only two ways to live your life. On...   \n",
      "3          Jane Austen  “The person, be it gentleman or lady, who has ...   \n",
      "4       Marilyn Monroe  “Imperfection is beauty, madness is genius and...   \n",
      "..                 ...                                                ...   \n",
      "95          Harper Lee  “You never really understand a person until yo...   \n",
      "96   Madeleine L'Engle  “You have to write the book that wants to be w...   \n",
      "97          Mark Twain  “Never tell the truth to people who are not wo...   \n",
      "98           Dr. Seuss        “A person's a person, no matter how small.”   \n",
      "99  George R.R. Martin  “... a mind needs books as a sword needs a whe...   \n",
      "\n",
      "                                                 Tags  \n",
      "0              change, deep-thoughts, thinking, world  \n",
      "1                                  abilities, choices  \n",
      "2        inspirational, life, live, miracle, miracles  \n",
      "3                    aliteracy, books, classic, humor  \n",
      "4                          be-yourself, inspirational  \n",
      "..                                                ...  \n",
      "95                                better-life-empathy  \n",
      "96  books, children, difficult, grown-ups, write, ...  \n",
      "97                                              truth  \n",
      "98                                      inspirational  \n",
      "99                                        books, mind  \n",
      "\n",
      "[100 rows x 3 columns]\n"
     ]
    }
   ],
   "source": [
    "dfAuthors = pd.DataFrame(authors)\n",
    "dfTags = pd.DataFrame(tags)\n",
    "dfTweets = pd.DataFrame(tweets)\n",
    "\n",
    "newDataFrame = pd.concat([dfAuthors, dfTweets, dfTags], axis=1)\n",
    "newDataFrame.columns = ['Authors', 'Tweets', 'Tags']\n",
    "\n",
    "print(newDataFrame)\n",
    "# newDataFrame.to_csv(r\"C:\\Users\\Carlo\\OneDrive\\Documents\\newTextScraping.csv\",index=False)"
   ]
  }
 ],
 "metadata": {
  "kernelspec": {
   "display_name": "Python 3",
   "language": "python",
   "name": "python3"
  },
  "language_info": {
   "codemirror_mode": {
    "name": "ipython",
    "version": 3
   },
   "file_extension": ".py",
   "mimetype": "text/x-python",
   "name": "python",
   "nbconvert_exporter": "python",
   "pygments_lexer": "ipython3",
   "version": "3.11.9"
  }
 },
 "nbformat": 4,
 "nbformat_minor": 2
}
