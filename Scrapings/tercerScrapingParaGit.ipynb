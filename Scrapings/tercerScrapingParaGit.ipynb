{
 "cells": [
  {
   "cell_type": "code",
   "execution_count": 18,
   "metadata": {},
   "outputs": [],
   "source": [
    "import pandas as pd\n",
    "import requests\n",
    "import re\n",
    "from bs4 import BeautifulSoup"
   ]
  },
  {
   "cell_type": "code",
   "execution_count": 19,
   "metadata": {},
   "outputs": [
    {
     "name": "stdout",
     "output_type": "stream",
     "text": [
      "['https://statistics.stanford.edu/people/alumni?page=1', 'https://statistics.stanford.edu/people/alumni?page=2', 'https://statistics.stanford.edu/people/alumni?page=3', 'https://statistics.stanford.edu/people/alumni?page=4', 'https://statistics.stanford.edu/people/alumni?page=5', 'https://statistics.stanford.edu/people/alumni?page=6', 'https://statistics.stanford.edu/people/alumni?page=7', 'https://statistics.stanford.edu/people/alumni?page=8', 'https://statistics.stanford.edu/people/alumni?page=9', 'https://statistics.stanford.edu/people/alumni?page=10', 'https://statistics.stanford.edu/people/alumni?page=11']\n"
     ]
    }
   ],
   "source": [
    "urlList = []\n",
    "for i in range(1,12):\n",
    "    url = f'https://statistics.stanford.edu/people/alumni?page={i}'\n",
    "    urlList.append(url)\n",
    "\n",
    "print(urlList)"
   ]
  },
  {
   "cell_type": "code",
   "execution_count": 20,
   "metadata": {},
   "outputs": [
    {
     "name": "stdout",
     "output_type": "stream",
     "text": [
      "5\n",
      "['Graduation Year', 'Student', 'Dissertation', 'Advisor', 'Committee Members']\n"
     ]
    }
   ],
   "source": [
    "# Header extraction\n",
    "req = requests.get(urlList[0])\n",
    "soup = BeautifulSoup(req.text,'html')\n",
    "table = soup.find('div', {'class', 'views-view-pattern'})\n",
    "\n",
    "headers = []\n",
    "\n",
    "for i in table.find_all('div',{'class','Cell'}):\n",
    "    head = i.text\n",
    "    head = head.replace('\\n','').strip()\n",
    "    headers.append(head)\n",
    "\n",
    "print(len(headers))\n",
    "print(headers)"
   ]
  },
  {
   "cell_type": "code",
   "execution_count": 21,
   "metadata": {},
   "outputs": [],
   "source": [
    "graduationYear = []\n",
    "studentName = []\n",
    "dissertation = []\n",
    "advisorName = []\n",
    "membersOfCommittee = []"
   ]
  },
  {
   "cell_type": "code",
   "execution_count": 22,
   "metadata": {},
   "outputs": [],
   "source": [
    "# graduation year extraction\n",
    "def getAllData():\n",
    "    cleanList()\n",
    "\n",
    "def cleanList():\n",
    "    graduationYear.clear()\n",
    "    studentName.clear()\n",
    "    dissertation.clear()\n",
    "    advisorName.clear()\n",
    "    membersOfCommittee.clear()\n",
    "    urlGenerator()\n",
    "\n",
    "def urlGenerator():\n",
    "    for url in urlList:\n",
    "        req = requests.get(url)\n",
    "        soup = BeautifulSoup(req.text,'html')\n",
    "        table = soup.find('div', {'class', 'views-view-pattern'})\n",
    "        getData(table)\n",
    "\n",
    "def getData(table):\n",
    "\n",
    "    #Year extraction\n",
    "    for i in table.find_all('time'):\n",
    "        year = i.text\n",
    "        year = re.findall('[0-9]+',year)\n",
    "        graduationYear.append(year)\n",
    "\n",
    "    #Student name extraction\n",
    "    for i in table.find_all('a'):\n",
    "        student = i.text\n",
    "        studentName.append(student)\n",
    "\n",
    "    # Dissertation\n",
    "    for i in table.find_all('div', {'class','views-field views-field-field-hs-person-student-dissert'}):\n",
    "        motive = i.find('div', {'class','field-content'}).text\n",
    "        dissertation.append(motive)\n",
    "\n",
    "    # Advisor name extraction\n",
    "    for i in table.find_all('div', {'class','views-field views-field-custm-advisor-name'}):\n",
    "        advisor = i.find('div', {'class','field-content'}).text\n",
    "        advisorName.append(advisor)\n",
    "\n",
    "    # Committee Members extraction\n",
    "    for i in table.find_all('div', {'class','views-field views-field-custm-committee-names'}):\n",
    "        member = i.find('div', {'class','field-content'}).text\n",
    "        membersOfCommittee.append(member)"
   ]
  },
  {
   "cell_type": "code",
   "execution_count": null,
   "metadata": {},
   "outputs": [
    {
     "name": "stdout",
     "output_type": "stream",
     "text": [
      "    Graduation Year                   Student  \\\n",
      "0              2020              Matteo Sesia   \n",
      "1              2020                 Andy Tsao   \n",
      "2              2020                   Jun Yan   \n",
      "3              2019            Rakesh Achanta   \n",
      "4              2019                    Yu Bai   \n",
      "..              ...                       ...   \n",
      "505            1953       Om Prakash Aggarwal   \n",
      "506            1953  Kenneth David Cann Haley   \n",
      "507            1953       Gerald J. Lieberman   \n",
      "508            1951   Lincoln Ellsworth Moses   \n",
      "509            1950           Herbert Solomon   \n",
      "\n",
      "                                          Dissertation   Advisor  \\\n",
      "0    New Methods for Variable Importance Testing wi...    Candes   \n",
      "1     Sampling Methods for Perfect Bipartite Matchings  Diaconis   \n",
      "2    Asymptotic Theory for Large Random Matrices an...     Dembo   \n",
      "3    Boosting Like Path Algorithms for L1 Regulariz...    Hastie   \n",
      "4    When do gradient methods work well in non-conv...     Duchi   \n",
      "..                                                 ...       ...   \n",
      "505  Bayes and Minimax Procedures in Sampling from ...     Rubin   \n",
      "506  Estimation of the Dosage Mortality Response Re...    Bowker   \n",
      "507               Contributions to Sampling Inspection    Bowker   \n",
      "508  An Iterative Construction of the Optimum Seque...  Girshick   \n",
      "509  Distribution of the Measure of a Two-Dimension...     Rubin   \n",
      "\n",
      "             Committee Members  \n",
      "0          Sabatti, Tibshirani  \n",
      "1    Chatterjee, Charikar (CS)  \n",
      "2        Chatterjee, Montanari  \n",
      "3           Taylor, Tibshirani  \n",
      "4            Montanari, Candes  \n",
      "..                         ...  \n",
      "505                        NaN  \n",
      "506                        NaN  \n",
      "507                        NaN  \n",
      "508                        NaN  \n",
      "509                        NaN  \n",
      "\n",
      "[510 rows x 5 columns]\n"
     ]
    }
   ],
   "source": [
    "getAllData()\n",
    "\n",
    "dfAdvisorName = pd.DataFrame(advisorName)\n",
    "dfGraduationYear = pd.DataFrame(graduationYear)\n",
    "dfMembersOfCommittee = pd.DataFrame(membersOfCommittee)\n",
    "dfAssignment = pd.DataFrame(dissertation)\n",
    "dfStudentName = pd.DataFrame(studentName)\n",
    "\n",
    "finalTable = pd.concat([dfGraduationYear,dfStudentName,dfAssignment,dfAdvisorName,dfMembersOfCommittee], axis=1)\n",
    "finalTable.columns = headers\n",
    "print(finalTable)\n",
    "\n",
    "finalTable.to_excel(r'C:\\Users\\Carlo\\OneDrive\\Documents\\ScrapyStudents.xlsx',index=False)"
   ]
  }
 ],
 "metadata": {
  "kernelspec": {
   "display_name": "Python 3",
   "language": "python",
   "name": "python3"
  },
  "language_info": {
   "codemirror_mode": {
    "name": "ipython",
    "version": 3
   },
   "file_extension": ".py",
   "mimetype": "text/x-python",
   "name": "python",
   "nbconvert_exporter": "python",
   "pygments_lexer": "ipython3",
   "version": "3.11.9"
  }
 },
 "nbformat": 4,
 "nbformat_minor": 2
}
