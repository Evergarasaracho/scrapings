{
 "cells": [
  {
   "cell_type": "code",
   "execution_count": 35,
   "metadata": {},
   "outputs": [],
   "source": [
    "import pandas as pd\n",
    "import requests\n",
    "import re\n",
    "from bs4 import BeautifulSoup\n",
    "import numpy"
   ]
  },
  {
   "cell_type": "code",
   "execution_count": 36,
   "metadata": {},
   "outputs": [
    {
     "name": "stdout",
     "output_type": "stream",
     "text": [
      "['https://books.toscrape.com/catalogue/page-1.html', 'https://books.toscrape.com/catalogue/page-2.html', 'https://books.toscrape.com/catalogue/page-3.html', 'https://books.toscrape.com/catalogue/page-4.html', 'https://books.toscrape.com/catalogue/page-5.html', 'https://books.toscrape.com/catalogue/page-6.html', 'https://books.toscrape.com/catalogue/page-7.html', 'https://books.toscrape.com/catalogue/page-8.html', 'https://books.toscrape.com/catalogue/page-9.html', 'https://books.toscrape.com/catalogue/page-10.html', 'https://books.toscrape.com/catalogue/page-11.html', 'https://books.toscrape.com/catalogue/page-12.html', 'https://books.toscrape.com/catalogue/page-13.html', 'https://books.toscrape.com/catalogue/page-14.html', 'https://books.toscrape.com/catalogue/page-15.html', 'https://books.toscrape.com/catalogue/page-16.html', 'https://books.toscrape.com/catalogue/page-17.html', 'https://books.toscrape.com/catalogue/page-18.html', 'https://books.toscrape.com/catalogue/page-19.html', 'https://books.toscrape.com/catalogue/page-20.html', 'https://books.toscrape.com/catalogue/page-21.html', 'https://books.toscrape.com/catalogue/page-22.html', 'https://books.toscrape.com/catalogue/page-23.html', 'https://books.toscrape.com/catalogue/page-24.html', 'https://books.toscrape.com/catalogue/page-25.html', 'https://books.toscrape.com/catalogue/page-26.html', 'https://books.toscrape.com/catalogue/page-27.html', 'https://books.toscrape.com/catalogue/page-28.html', 'https://books.toscrape.com/catalogue/page-29.html', 'https://books.toscrape.com/catalogue/page-30.html', 'https://books.toscrape.com/catalogue/page-31.html', 'https://books.toscrape.com/catalogue/page-32.html', 'https://books.toscrape.com/catalogue/page-33.html', 'https://books.toscrape.com/catalogue/page-34.html', 'https://books.toscrape.com/catalogue/page-35.html', 'https://books.toscrape.com/catalogue/page-36.html', 'https://books.toscrape.com/catalogue/page-37.html', 'https://books.toscrape.com/catalogue/page-38.html', 'https://books.toscrape.com/catalogue/page-39.html', 'https://books.toscrape.com/catalogue/page-40.html', 'https://books.toscrape.com/catalogue/page-41.html', 'https://books.toscrape.com/catalogue/page-42.html', 'https://books.toscrape.com/catalogue/page-43.html', 'https://books.toscrape.com/catalogue/page-44.html', 'https://books.toscrape.com/catalogue/page-45.html', 'https://books.toscrape.com/catalogue/page-46.html', 'https://books.toscrape.com/catalogue/page-47.html', 'https://books.toscrape.com/catalogue/page-48.html', 'https://books.toscrape.com/catalogue/page-49.html', 'https://books.toscrape.com/catalogue/page-50.html']\n"
     ]
    }
   ],
   "source": [
    "urlList = []\n",
    "\n",
    "for number in range(1,51):\n",
    "    url = f'https://books.toscrape.com/catalogue/page-{number}.html'\n",
    "    urlList.append(url)\n",
    "\n",
    "print(urlList)"
   ]
  },
  {
   "cell_type": "code",
   "execution_count": 37,
   "metadata": {},
   "outputs": [],
   "source": [
    "inStock = []\n",
    "names = []\n",
    "prices = []\n",
    "rates = []"
   ]
  },
  {
   "cell_type": "code",
   "execution_count": 38,
   "metadata": {},
   "outputs": [],
   "source": [
    "def masterScrapyFunction():\n",
    "    cleaningLists()\n",
    "\n",
    "def cleaningLists():\n",
    "    names.clear()\n",
    "    prices.clear()\n",
    "    rates.clear()\n",
    "    inStock.clear()\n",
    "    urlInfoExtraction()\n",
    "\n",
    "def urlInfoExtraction():\n",
    "    for url in urlList:\n",
    "        req = requests.get(url)\n",
    "        soup = BeautifulSoup(req.text,'html')\n",
    "        dataTableExtraction(soup)\n",
    "\n",
    "def dataTableExtraction(soup):\n",
    "    dataTable = soup.find('ol', {'class','row'})\n",
    "    bookExtraction(dataTable)\n",
    "\n",
    "def bookExtraction(dataTable):\n",
    "        data = dataTable.find_all('li')\n",
    "        dataExtraction(data)\n",
    "\n",
    "def dataExtraction(data):\n",
    "    for i in data:\n",
    "        name = i.find('a').find('img')['alt']\n",
    "        names.append(name)\n",
    "\n",
    "    for i in data:\n",
    "        rate = i.find('p', {'class', 'star-rating'})['class'][1]\n",
    "        match rate:\n",
    "            case 'One':\n",
    "                rates.append(1)\n",
    "            case 'Two':\n",
    "                rates.append(2)\n",
    "            case 'Three':\n",
    "                rates.append(3)\n",
    "            case 'Four':\n",
    "                rates.append(4)\n",
    "            case 'Five':\n",
    "                rates.append(5)\n",
    "\n",
    "    for i in data:\n",
    "        price = i.find('p', {'class','price_color'}).text\n",
    "        price = price.replace('Â£','')\n",
    "        prices.append(price)\n",
    "\n",
    "    for i in data:\n",
    "        stock = i.find('p', {'class','instock availability'}).text\n",
    "        stock = stock.replace('\\n','').strip()\n",
    "        inStock.append(stock)"
   ]
  },
  {
   "cell_type": "code",
   "execution_count": 39,
   "metadata": {},
   "outputs": [],
   "source": [
    "masterScrapyFunction()"
   ]
  },
  {
   "cell_type": "code",
   "execution_count": 40,
   "metadata": {},
   "outputs": [
    {
     "name": "stdout",
     "output_type": "stream",
     "text": [
      "                                                 Names Prices  Rate  \\\n",
      "0                                 A Light in the Attic  51.77     3   \n",
      "1                                   Tipping the Velvet  53.74     1   \n",
      "2                                           Soumission  50.10     1   \n",
      "3                                        Sharp Objects  47.82     4   \n",
      "4                Sapiens: A Brief History of Humankind  54.23     5   \n",
      "..                                                 ...    ...   ...   \n",
      "995  Alice in Wonderland (Alice's Adventures in Won...  55.53     1   \n",
      "996   Ajin: Demi-Human, Volume 1 (Ajin: Demi-Human #1)  57.06     4   \n",
      "997  A Spy's Devotion (The Regency Spies of London #1)  16.97     5   \n",
      "998                1st to Die (Women's Murder Club #1)  53.98     1   \n",
      "999                 1,000 Places to See Before You Die  26.08     5   \n",
      "\n",
      "    Availability  \n",
      "0       In stock  \n",
      "1       In stock  \n",
      "2       In stock  \n",
      "3       In stock  \n",
      "4       In stock  \n",
      "..           ...  \n",
      "995     In stock  \n",
      "996     In stock  \n",
      "997     In stock  \n",
      "998     In stock  \n",
      "999     In stock  \n",
      "\n",
      "[1000 rows x 4 columns]\n"
     ]
    }
   ],
   "source": [
    "dfNames = pd.DataFrame(names)\n",
    "dfRates = pd.DataFrame(rates)\n",
    "dfPrices = pd.DataFrame(prices)\n",
    "dfInStock = pd.DataFrame(inStock)\n",
    "\n",
    "dataSet = pd.concat([dfNames, dfPrices, dfRates, dfInStock], axis=1)\n",
    "dataSet.columns = ['Names', 'Prices', 'Rate' ,'Availability']\n",
    "\n",
    "print(dataSet)\n",
    "# dataSet.to_excel(r'C:\\Users\\Carlo\\OneDrive\\Documents\\dataSet.xlsx',index=False)"
   ]
  }
 ],
 "metadata": {
  "kernelspec": {
   "display_name": "Python 3",
   "language": "python",
   "name": "python3"
  },
  "language_info": {
   "codemirror_mode": {
    "name": "ipython",
    "version": 3
   },
   "file_extension": ".py",
   "mimetype": "text/x-python",
   "name": "python",
   "nbconvert_exporter": "python",
   "pygments_lexer": "ipython3",
   "version": "3.11.9"
  }
 },
 "nbformat": 4,
 "nbformat_minor": 2
}
