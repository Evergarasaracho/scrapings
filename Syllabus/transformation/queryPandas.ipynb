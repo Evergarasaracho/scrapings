{
 "cells": [
  {
   "cell_type": "code",
   "execution_count": 2,
   "metadata": {},
   "outputs": [],
   "source": [
    "import pandas as pd"
   ]
  },
  {
   "cell_type": "code",
   "execution_count": 3,
   "metadata": {},
   "outputs": [
    {
     "name": "stdout",
     "output_type": "stream",
     "text": [
      "     total_bill   tip     sex smoker   day    time  size\n",
      "20        17.92  4.08    Male     No   Sat  Dinner     2\n",
      "125       29.80  4.20  Female     No  Thur   Lunch     6\n",
      "161       12.66  2.50    Male     No   Sun  Dinner     2\n",
      "123       15.95  2.00    Male     No  Thur   Lunch     2\n",
      "46        22.23  5.00    Male     No   Sun  Dinner     2\n"
     ]
    }
   ],
   "source": [
    "dataset = pd.read_csv(r'C:\\Users\\Carlo\\OneDrive\\Documents\\Python\\datasetPruebaPandas.csv')\n",
    "\n",
    "dfDataset = pd.DataFrame(dataset)\n",
    "print(dfDataset.sample(5))"
   ]
  },
  {
   "cell_type": "code",
   "execution_count": 4,
   "metadata": {},
   "outputs": [
    {
     "name": "stdout",
     "output_type": "stream",
     "text": [
      "     total_bill   tip     sex smoker  day    time  size\n",
      "58        11.24  1.76    Male    Yes  Sat  Dinner     2\n",
      "60        20.29  3.21    Male    Yes  Sat  Dinner     2\n",
      "61        13.81  2.00    Male    Yes  Sat  Dinner     2\n",
      "62        11.02  1.98    Male    Yes  Sat  Dinner     2\n",
      "69        15.01  2.09    Male    Yes  Sat  Dinner     2\n",
      "..          ...   ...     ...    ...  ...     ...   ...\n",
      "234       15.53  3.00    Male    Yes  Sat  Dinner     2\n",
      "236       12.60  1.00    Male    Yes  Sat  Dinner     2\n",
      "237       32.83  1.17    Male    Yes  Sat  Dinner     2\n",
      "240       27.18  2.00  Female    Yes  Sat  Dinner     2\n",
      "241       22.67  2.00    Male    Yes  Sat  Dinner     2\n",
      "\n",
      "[66 rows x 7 columns]\n"
     ]
    }
   ],
   "source": [
    "firstQuery = dfDataset.query(\"smoker=='Yes' and size==2\")\n",
    "print(firstQuery) "
   ]
  },
  {
   "cell_type": "code",
   "execution_count": 5,
   "metadata": {},
   "outputs": [
    {
     "name": "stdout",
     "output_type": "stream",
     "text": [
      "     total_bill     sex  size\n",
      "0         16.99  Female     2\n",
      "2         21.01    Male     3\n",
      "3         23.68    Male     2\n",
      "4         24.59  Female     4\n",
      "5         25.29    Male     4\n",
      "..          ...     ...   ...\n",
      "239       29.03    Male     3\n",
      "240       27.18  Female     2\n",
      "241       22.67    Male     2\n",
      "242       17.82    Male     2\n",
      "243       18.78  Female     2\n",
      "\n",
      "[148 rows x 3 columns]\n"
     ]
    }
   ],
   "source": [
    "secondQuery = dfDataset.query(\"total_bill > 16\")[['total_bill','sex','size']]\n",
    "print(secondQuery)"
   ]
  },
  {
   "cell_type": "code",
   "execution_count": 6,
   "metadata": {},
   "outputs": [
    {
     "name": "stdout",
     "output_type": "stream",
     "text": [
      "    total_bill  tip     sex smoker  day    time  size\n",
      "8        15.04  0.0    Male     No  Sun  Dinner     2\n",
      "28       21.70  0.0    Male     No  Sat  Dinner     2\n",
      "39       31.27  0.0    Male     No  Sat  Dinner     3\n",
      "51       10.29  0.0  Female     No  Sun  Dinner     2\n",
      "59       48.27  0.0    Male     No  Sat  Dinner     4\n",
      "66       16.45  0.0  Female     No  Sat  Dinner     2\n"
     ]
    }
   ],
   "source": [
    "thirdQuery = dfDataset[['tip']].fillna(0)\n",
    "dfDataset['tip'] = thirdQuery\n",
    "fourthQuery = dfDataset.query(\"tip == 0\")\n",
    "\n",
    "print(fourthQuery)"
   ]
  },
  {
   "cell_type": "markdown",
   "metadata": {},
   "source": [
    "### Feature Engineering\n"
   ]
  },
  {
   "cell_type": "code",
   "execution_count": 7,
   "metadata": {},
   "outputs": [
    {
     "name": "stdout",
     "output_type": "stream",
     "text": [
      "     total_bill   tip     sex smoker   day    time  size  tip_rate\n",
      "0         16.99  1.01  Female     No   Sun  Dinner     2   bad tip\n",
      "1         10.34  1.66    Male     No   Sun  Dinner     3  good tip\n",
      "2         21.01  3.50    Male     No   Sun  Dinner     3  good tip\n",
      "3         23.68  3.31    Male     No   Sun  Dinner     2  good tip\n",
      "4         24.59  3.61  Female     No   Sun  Dinner     4  good tip\n",
      "..          ...   ...     ...    ...   ...     ...   ...       ...\n",
      "239       29.03  5.92    Male     No   Sat  Dinner     3  good tip\n",
      "240       27.18  2.00  Female    Yes   Sat  Dinner     2  good tip\n",
      "241       22.67  2.00    Male    Yes   Sat  Dinner     2  good tip\n",
      "242       17.82  1.75    Male     No   Sat  Dinner     2  good tip\n",
      "243       18.78  3.00  Female     No  Thur  Dinner     2  good tip\n",
      "\n",
      "[244 rows x 8 columns]\n"
     ]
    }
   ],
   "source": [
    "\n",
    "tipRate = []\n",
    "for index, row in dfDataset.iterrows():\n",
    "    if row['tip']/row['total_bill'] <= 0.07:\n",
    "        tipRate.append('bad tip')\n",
    "    elif row['tip']/row['total_bill'] > 0.07 and row['tip']/row['total_bill'] < 0.25:\n",
    "        tipRate.append('good tip')\n",
    "    else:\n",
    "        tipRate.append('Excellent tip')\n",
    "    \n",
    "dfDataset['tip_rate'] = tipRate\n",
    "print(dfDataset)"
   ]
  },
  {
   "cell_type": "code",
   "execution_count": 10,
   "metadata": {},
   "outputs": [
    {
     "name": "stdout",
     "output_type": "stream",
     "text": [
      "     total_bill   tip     sex smoker   day    time  size       tip_rate\n",
      "67         3.07  1.00  Female    Yes   Sat  Dinner     1  Excellent tip\n",
      "93        16.32  4.30  Female    Yes   Fri  Dinner     2  Excellent tip\n",
      "109       14.31  4.00  Female    Yes   Sat  Dinner     2  Excellent tip\n",
      "149        7.51  2.00    Male     No  Thur   Lunch     2  Excellent tip\n",
      "172        7.25  5.15    Male    Yes   Sun  Dinner     2  Excellent tip\n",
      "178        9.60  4.00  Female    Yes   Sun  Dinner     2  Excellent tip\n",
      "183       23.17  6.50    Male    Yes   Sun  Dinner     4  Excellent tip\n",
      "221       13.42  3.48  Female    Yes   Fri   Lunch     2  Excellent tip\n",
      "232       11.61  3.39    Male     No   Sat  Dinner     2  Excellent tip\n"
     ]
    }
   ],
   "source": [
    "fifthQuery = dfDataset.query(\"tip_rate == 'Excellent tip'\")\n",
    "print(fifthQuery)"
   ]
  }
 ],
 "metadata": {
  "kernelspec": {
   "display_name": "Python 3",
   "language": "python",
   "name": "python3"
  },
  "language_info": {
   "codemirror_mode": {
    "name": "ipython",
    "version": 3
   },
   "file_extension": ".py",
   "mimetype": "text/x-python",
   "name": "python",
   "nbconvert_exporter": "python",
   "pygments_lexer": "ipython3",
   "version": "3.11.9"
  }
 },
 "nbformat": 4,
 "nbformat_minor": 2
}
