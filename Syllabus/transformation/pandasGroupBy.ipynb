{
 "cells": [
  {
   "cell_type": "code",
   "execution_count": 2,
   "metadata": {},
   "outputs": [],
   "source": [
    "import pandas as pd"
   ]
  },
  {
   "cell_type": "code",
   "execution_count": 3,
   "metadata": {},
   "outputs": [
    {
     "name": "stdout",
     "output_type": "stream",
     "text": [
      "  Department Employee  Salary    bonus\n",
      "0         HR    Alice   50000  55250.0\n",
      "1         HR      Bob   55000  60250.0\n",
      "2       Tech  Charlie   70000  77250.0\n",
      "3       Tech    David   75000  82250.0\n",
      "4    Finance      Eve   60000  66000.0\n"
     ]
    }
   ],
   "source": [
    "# 1. Create DataFrame\n",
    "data = {'Department': ['HR', 'HR', 'Tech', 'Tech', 'Finance'], \n",
    "        'Employee': ['Alice', 'Bob', 'Charlie', 'David', 'Eve'], \n",
    "        'Salary': [50000, 55000, 70000, 75000, 60000]}\n",
    "df = pd.DataFrame(data)\n",
    "\n",
    "# 2. Group by Department and calculate average salary\n",
    "avg_salary = df.groupby('Department')['Salary'].mean()\n",
    "\n",
    "# 3. Find department with highest total salary\n",
    "highest_dept = df.groupby('Department')['Salary'].sum().idxmax()\n",
    "\n",
    "# 4. Add a Bonus column\n",
    "bonus_salary = []\n",
    "for index, row in df.iterrows():\n",
    "    bonus_salary.append(row['Salary'] + avg_salary[row['Department']]*.1)\n",
    "\n",
    "df['bonus'] = bonus_salary\n",
    "\n",
    "print(df)"
   ]
  },
  {
   "cell_type": "code",
   "execution_count": 4,
   "metadata": {},
   "outputs": [
    {
     "name": "stdout",
     "output_type": "stream",
     "text": [
      "  Department Employee  Salary    bonus\n",
      "4    Finance      Eve   60000  66000.0 \n",
      "\n",
      "\n",
      "  Department Employee  Salary    bonus\n",
      "0         HR    Alice   50000  55250.0\n",
      "1         HR      Bob   55000  60250.0 \n",
      "\n",
      "\n",
      "  Department Employee  Salary    bonus\n",
      "2       Tech  Charlie   70000  77250.0\n",
      "3       Tech    David   75000  82250.0 \n",
      "\n",
      "\n"
     ]
    }
   ],
   "source": [
    "avg_salary_gp = df.groupby('Department')\n",
    "for key, item in avg_salary_gp:\n",
    "        print(item,\"\\n\\n\")"
   ]
  },
  {
   "cell_type": "code",
   "execution_count": 5,
   "metadata": {},
   "outputs": [
    {
     "name": "stdout",
     "output_type": "stream",
     "text": [
      "     time  total_bill\n",
      "0  Dinner   20.797159\n",
      "1   Lunch   17.168676\n"
     ]
    }
   ],
   "source": [
    "dataset = pd.read_csv(r'C:\\Users\\Carlo\\OneDrive\\Documents\\Python\\datasetPruebaPandas.csv')\n",
    "\n",
    "dfDataset = pd.DataFrame(dataset)\n",
    "\n",
    "avg_per_meal = dfDataset.groupby('time')['total_bill'].mean().reset_index()\n",
    "\n",
    "print(avg_per_meal)"
   ]
  },
  {
   "cell_type": "code",
   "execution_count": 11,
   "metadata": {},
   "outputs": [
    {
     "name": "stdout",
     "output_type": "stream",
     "text": [
      "sex\n",
      "Female     6.5\n",
      "Male      10.0\n",
      "Name: tip, dtype: float64\n",
      "\n",
      "Tips for female were: 6.5\n",
      "\n",
      "Tips for male were: 10.0\n"
     ]
    }
   ],
   "source": [
    "max_per_sex = dfDataset.groupby('sex')['tip'].max()\n",
    "\n",
    "print(max_per_sex)\n",
    "print()\n",
    "print(\"Tips for female were:\",max_per_sex['Female'])\n",
    "print()\n",
    "print(\"Tips for male were:\",max_per_sex['Male'])\n"
   ]
  }
 ],
 "metadata": {
  "kernelspec": {
   "display_name": "Python 3",
   "language": "python",
   "name": "python3"
  },
  "language_info": {
   "codemirror_mode": {
    "name": "ipython",
    "version": 3
   },
   "file_extension": ".py",
   "mimetype": "text/x-python",
   "name": "python",
   "nbconvert_exporter": "python",
   "pygments_lexer": "ipython3",
   "version": "3.11.9"
  }
 },
 "nbformat": 4,
 "nbformat_minor": 2
}
