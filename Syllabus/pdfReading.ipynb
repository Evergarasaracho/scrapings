{
 "cells": [
  {
   "cell_type": "markdown",
   "metadata": {},
   "source": []
  },
  {
   "cell_type": "code",
   "execution_count": 20,
   "metadata": {},
   "outputs": [],
   "source": [
    "import pandas\n",
    "import PyPDF2\n",
    "import re"
   ]
  },
  {
   "cell_type": "code",
   "execution_count": 9,
   "metadata": {},
   "outputs": [
    {
     "name": "stdout",
     "output_type": "stream",
     "text": [
      "Condensed Employee Time Detail\n",
      "Time \n",
      "Period :Previous Pay Period Executed \n",
      "on :2/03/2025 7:56 AM\n",
      "Query : BWD JYC Temp \n",
      "AgencyPrinted for : Wheeler, Kathleen\n",
      "Currency \n",
      "Code :USD\n",
      "Page 1 of 9Employee: Aviles, Fabian ID: 104410 Time Zone:(GMT -05:00) Eastern Time (USA; \n",
      "Canada)\n",
      "Status: Active Status Date: 1/20/25 Pay Rule: BWD JYC Temp Agency\n",
      "Primary Job: Start Date: End Date: Primary Labor Category:\n",
      "International Wire Group/Omega Wire Inc./\n",
      "Williamstown/ Direct/Strand/WIL-CABDOU/WIL \n",
      "CABDOU L1,W4SB1/20/25   \n",
      "Apply Date Pay Code In In Excep. Out Out Excep. Hours Wages Days\n",
      "Job(Labor) Transfer\n",
      "Comments Work Rule\n",
      "2025-01-27  2:59 PM  12:00 AM  9.00  0.00\n",
      "2025-01-28  2:53 PM Early In 12:00 AM  9.10  0.00\n",
      "2025-01-29  2:53 PM Early In 12:00 AM  9.10  0.00\n",
      "2025-01-30  2:54 PM  12:00 AM  9.00  0.00\n",
      "2025-01-31  2:54 PM  12:00 AM  9.00  0.00\n",
      "45.20 0.00 0.00\n",
      "Job Summary\n",
      "Pay Code Hours Wages Days\n",
      "International Wire Group/Omega Wire Inc./Williamstown/Direct/Strand/WIL-CABDOU/WIL CABDOU L1,W4SB CC:N/A\n",
      "Overtime 5.20 0.00 0.00\n",
      "Regular 40.00  0.00\n",
      "Labor Summary\n",
      "Pay Code Hours Wages Days\n",
      "Labor Category ()\n",
      "Overtime 5.20 0.00 0.00\n",
      "Regular 40.00  0.00\n",
      "Combined Pay Code Summary\n",
      "Pay Code Hours Wages Days\n",
      "Regular Pay Code Summary\n",
      "Pay Code Hours Wages Days\n",
      "Overtime 5.20 0.00 0.00\n",
      "Regular 40.00  0.00\n"
     ]
    }
   ],
   "source": [
    "pdf = r'C:\\Users\\Carlo\\OneDrive\\Documents\\_Report Output_CondensedStandardTimeDetailReport_89a86040-ec7e-45a8-b609-e8b142d86054_2025-02-03T07_56_41.696.pdf'\n",
    "with open(pdf, 'rb') as file: # 'rb' is used to open binary files as world, pdf, excel, etc.\n",
    "    reader = PyPDF2.PdfReader(file) # this become the doc in a object that could be read.\n",
    "\n",
    "    report_output = []\n",
    "\n",
    "\n",
    "    for page_num in range(len(reader.pages)): # '.pages' returns the number of pages in the doc. And len() returns how big is the list. \n",
    "        page = reader.pages[page_num]\n",
    "        text = page.extract_text() # this extract the text that is in the page\n",
    "        report_output.append(text)\n",
    "\n",
    "print(report_output[0])"
   ]
  },
  {
   "cell_type": "code",
   "execution_count": 22,
   "metadata": {},
   "outputs": [
    {
     "name": "stdout",
     "output_type": "stream",
     "text": [
      "Condensed Employee Time Detail\n",
      "Time \n",
      "Period :Previous Pay Period Executed \n",
      "on :2/03/2025 7:56 AM\n",
      "Query : BWD JYC Temp \n",
      "AgencyPrinted for : Wheeler, Kathleen\n",
      "Currency \n",
      "Code :USD\n",
      "Page 1 of 9Employee: Aviles, Fabian ID: 104410 Time Zone:(GMT -05:00) Eastern Time (USA; \n",
      "Canada)\n",
      "Status: Active Status Date: 1/20/25 Pay Rule: BWD JYC Temp Agency\n",
      "Primary Job: Start Date: End Date: Primary Labor Category:\n",
      "International Wire Group/Omega Wire Inc./\n",
      "Williamstown/ Direct/Strand/WIL-CABDOU/WIL \n",
      "CABDOU L1,W4SB1/20/25   \n",
      "Apply Date Pay Code In In Excep. Out Out Excep. Hours Wages Days\n",
      "Job(Labor) Transfer\n",
      "Comments Work Rule\n",
      "2025-01-27  2:59 PM  12:00 AM  9.00  0.00\n",
      "2025-01-28  2:53 PM Early In 12:00 AM  9.10  0.00\n",
      "2025-01-29  2:53 PM Early In 12:00 AM  9.10  0.00\n",
      "2025-01-30  2:54 PM  12:00 AM  9.00  0.00\n",
      "2025-01-31  2:54 PM  12:00 AM  9.00  0.00\n",
      "45.20 0.00 0.00\n",
      "Job Summary\n",
      "Pay Code Hours Wages Days\n",
      "International Wire Group/Omega Wire Inc./Williamstown/Direct/Strand/WIL-CABDOU/WIL CABDOU L1,W4SB CC:N/A\n",
      "Overtime 5.20 0.00 0.00\n",
      "Regular 40.00  0.00\n",
      "Labor Summary\n",
      "Pay Code Hours Wages Days\n",
      "Labor Category ()\n",
      "Overtime 5.20 0.00 0.00\n",
      "Regular 40.00  0.00\n",
      "Combined Pay Code Summary\n",
      "Pay Code Hours Wages Days\n",
      "Regular Pay Code Summary\n",
      "Pay Code Hours Wages Days\n",
      "Overtime 5.20 0.00 0.00\n",
      "Regular 40.00  0.00\n"
     ]
    }
   ],
   "source": [
    "with open(pdf, 'rb') as file:\n",
    "    reader = PyPDF2.PdfReader(file)\n",
    "\n",
    "    payroll = []\n",
    "\n",
    "    for num in range(len(reader.pages)):\n",
    "        page = reader.pages[num]\n",
    "        text = page.extract_text()\n",
    "        payroll.append(text)\n",
    "\n",
    "print(payroll[0])"
   ]
  },
  {
   "cell_type": "code",
   "execution_count": 37,
   "metadata": {},
   "outputs": [
    {
     "name": "stdout",
     "output_type": "stream",
     "text": [
      "Aviles, Fabian\n"
     ]
    }
   ],
   "source": [
    "firstCoordinate = re.search('Employee:',payroll[0]).span()[1]\n",
    "secondCoordinate = re.search('ID:',payroll[0]).span()[0]\n",
    "name = payroll[0][firstCoordinate:secondCoordinate].strip()\n",
    "\n",
    "print(name)"
   ]
  },
  {
   "cell_type": "code",
   "execution_count": 53,
   "metadata": {},
   "outputs": [],
   "source": [
    "employee = []\n",
    "\n",
    "def pageIteration(payroll):\n",
    "    for page in payroll:\n",
    "        extractEmployeeData(page)\n",
    "\n",
    "def extractEmployeeData(page):\n",
    "    name = nameExtraction(page)\n",
    "    employee.append(name)\n",
    "\n",
    "def nameExtraction(page):\n",
    "    firstCoordinate = re.search('Employee:',page).span()[1]\n",
    "    secondCoordinate = re.search('ID:',page).span()[0]\n",
    "    fullname = page[firstCoordinate:secondCoordinate].strip().split(\",\")\n",
    "    firstName = fullname[1]\n",
    "    lastName = fullname[0]\n",
    "    return (firstName+\" \"+lastName).strip()"
   ]
  },
  {
   "cell_type": "code",
   "execution_count": 54,
   "metadata": {},
   "outputs": [
    {
     "name": "stdout",
     "output_type": "stream",
     "text": [
      "['Fabian Aviles', 'Eduardo Barboza', 'Anthony Casesa', 'Ian Gonzalez', 'Carlos Lucio', 'Eric Ojeda', 'Daniel Tenorio', 'Hector Tirrado', 'Gabriel Vera']\n"
     ]
    }
   ],
   "source": [
    "pageIteration(payroll)\n",
    "print(employee)\n"
   ]
  }
 ],
 "metadata": {
  "kernelspec": {
   "display_name": "Python 3",
   "language": "python",
   "name": "python3"
  },
  "language_info": {
   "codemirror_mode": {
    "name": "ipython",
    "version": 3
   },
   "file_extension": ".py",
   "mimetype": "text/x-python",
   "name": "python",
   "nbconvert_exporter": "python",
   "pygments_lexer": "ipython3",
   "version": "3.11.9"
  }
 },
 "nbformat": 4,
 "nbformat_minor": 2
}
