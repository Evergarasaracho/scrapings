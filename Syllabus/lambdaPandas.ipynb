{
 "cells": [
  {
   "cell_type": "markdown",
   "metadata": {},
   "source": [
    "Source = https://pandas.pydata.org/docs/reference/index.html"
   ]
  },
  {
   "cell_type": "code",
   "execution_count": 5,
   "metadata": {},
   "outputs": [],
   "source": [
    "import pandas as pd"
   ]
  },
  {
   "cell_type": "code",
   "execution_count": 6,
   "metadata": {},
   "outputs": [
    {
     "name": "stdout",
     "output_type": "stream",
     "text": [
      "   A  B\n",
      "0  1  2\n",
      "1  3  4\n",
      "2  5  6\n"
     ]
    }
   ],
   "source": [
    "# 1. Create DataFrame\n",
    "data = {'A': [1, 3, 5], 'B': [2, 4, 6]}\n",
    "df = pd.DataFrame(data)\n",
    "\n",
    "print(df)"
   ]
  },
  {
   "cell_type": "code",
   "execution_count": 7,
   "metadata": {},
   "outputs": [
    {
     "name": "stdout",
     "output_type": "stream",
     "text": [
      "    A   B   C\n",
      "0   2  12  14\n",
      "1   6  14  20\n",
      "2  10  16  26\n"
     ]
    }
   ],
   "source": [
    "# 2. Multiply column A by 2\n",
    "df['A'] = df['A'].apply(lambda x: x * 2)\n",
    "\n",
    "# 3. Add 10 to column B\n",
    "df['B'] = df['B'].apply(lambda x: x + 10)\n",
    "\n",
    "# 4. Create column C as sum of A and B\n",
    "df['C'] = df['A'] + df['B']\n",
    "\n",
    "print(df)"
   ]
  },
  {
   "cell_type": "code",
   "execution_count": 29,
   "metadata": {},
   "outputs": [
    {
     "name": "stdout",
     "output_type": "stream",
     "text": [
      "      Name  Age  Salary\n",
      "0    Alice   25   50000\n",
      "1  Charlie   35   70000\n",
      "2      Bob   30   60000\n",
      "3    Alice   30   55000\n"
     ]
    }
   ],
   "source": [
    "# 1. Create DataFrame with duplicates\n",
    "data = {'Name': ['Alice', 'Bob', 'Alice', 'Charlie', 'Bob','Alice'], \n",
    "        'Age': [25, 30, 25, 35, 30, 30], \n",
    "        'Salary': [50000, 60000, 50000, 70000, 60000, 55000]}\n",
    "df = pd.DataFrame(data)\n",
    "\n",
    "# 2. Remove duplicate rows\n",
    "df_no_duplicates = df.drop_duplicates(inplace=True, ignore_index=True, subset=['Name','Age'], keep='last')\n",
    "\n",
    "# 3. Keep last occurrence of each duplicate\n",
    "df_last_occurrence = df.drop_duplicates(keep='last')\n",
    "\n",
    "print(df)\n"
   ]
  },
  {
   "cell_type": "markdown",
   "metadata": {},
   "source": [
    "### Parameter of drop_duplicates"
   ]
  },
  {
   "cell_type": "code",
   "execution_count": 32,
   "metadata": {},
   "outputs": [],
   "source": [
    "inplace=True #modify the original dataframe\n",
    "keep='last' # keep the latest row of duplicates\n",
    "keep='first' # keep the newest row of duplicates\n",
    "ignore_index=True # reset the index of the new dataset after changes\n",
    "subset=[''] # Specify where apply the drop, if you write multiple parameters it will works as double match required"
   ]
  },
  {
   "cell_type": "code",
   "execution_count": 46,
   "metadata": {},
   "outputs": [
    {
     "name": "stdout",
     "output_type": "stream",
     "text": [
      "      Name  Age  Salary\n",
      "0    Alice   25   50000\n",
      "1      Bob   30   60000\n",
      "2  Charlie   35   70000\n",
      "\n",
      "      Name  Age  Salary\n",
      "0    Alice   25   50000\n",
      "1      Bob   30   60000\n",
      "2  Charlie   35   70000\n"
     ]
    }
   ],
   "source": [
    "# 1. Create DataFrame\n",
    "data = {'Name': ['Alice', 'Bob', 'Charlie'], 'Age': [25, 30, 35], 'Salary': [50000, 60000, 70000]}\n",
    "df = pd.DataFrame(data)\n",
    "\n",
    "# 2. Save to CSV\n",
    "df.to_csv('employees.csv', index=False, float_format='%.2f')\n",
    "\n",
    "# 3. Load CSV\n",
    "df_loaded = pd.read_csv('employees.csv')\n",
    "\n",
    "# 4. Save to Excel\n",
    "#df.to_excel('employees.xlsx', index=False)\n",
    "\n",
    "# 5. Load Excel\n",
    "df_excel_loaded = pd.read_excel('employees.xlsx')\n",
    "\n",
    "\n",
    "print(df_loaded, df_excel_loaded, sep=\"\\n\\n\")"
   ]
  },
  {
   "cell_type": "markdown",
   "metadata": {},
   "source": [
    "### read_csv parameters"
   ]
  },
  {
   "cell_type": "code",
   "execution_count": 48,
   "metadata": {},
   "outputs": [],
   "source": [
    "sep=\"/\" # to split the data\n",
    "na_rep=\"Ola k ace\" # fill all the NaN values with\n",
    "columns=[''] # specify a list of the names of the columns you want to export\n",
    "header=True # could be True, False or a List, True or False is to specify if you want to export the headers, the list is to replace the headers\n",
    "float_format='%.2f' # every float data will get a format that you decide\n",
    "index=False # to not export the index as a column\n",
    "index_label='ID' # how to name the index column if you export it. "
   ]
  }
 ],
 "metadata": {
  "kernelspec": {
   "display_name": "Python 3",
   "language": "python",
   "name": "python3"
  },
  "language_info": {
   "codemirror_mode": {
    "name": "ipython",
    "version": 3
   },
   "file_extension": ".py",
   "mimetype": "text/x-python",
   "name": "python",
   "nbconvert_exporter": "python",
   "pygments_lexer": "ipython3",
   "version": "3.11.9"
  }
 },
 "nbformat": 4,
 "nbformat_minor": 2
}
