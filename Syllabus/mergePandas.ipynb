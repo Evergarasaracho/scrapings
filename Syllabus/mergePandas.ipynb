{
 "cells": [
  {
   "cell_type": "code",
   "execution_count": 7,
   "metadata": {},
   "outputs": [
    {
     "name": "stdout",
     "output_type": "stream",
     "text": [
      "   ID     Name\n",
      "0   1    Alice\n",
      "1   2      Bob\n",
      "2   3  Charlie \n",
      "\n",
      "    ID  Salary\n",
      "0   2   60000\n",
      "1   3   70000\n",
      "2   4   80000\n"
     ]
    }
   ],
   "source": [
    "import pandas as pd\n",
    "\n",
    "# 1. Create DataFrames\n",
    "df1 = pd.DataFrame({'ID': [1, 2, 3], 'Name': ['Alice', 'Bob', 'Charlie']})\n",
    "df2 = pd.DataFrame({'ID': [2, 3, 4], 'Salary': [60000, 70000, 80000]})\n",
    "\n",
    "print(df1, \"\\n\\n\", df2)"
   ]
  },
  {
   "cell_type": "code",
   "execution_count": 5,
   "metadata": {},
   "outputs": [
    {
     "name": "stdout",
     "output_type": "stream",
     "text": [
      "   ID     Name  Salary\n",
      "0   2      Bob   60000\n",
      "1   3  Charlie   70000\n"
     ]
    }
   ],
   "source": [
    "inner_join = pd.merge(df1,df2) # Si no se le pone nada, por default pandas hace un inner join\n",
    "print(inner_join)"
   ]
  },
  {
   "cell_type": "code",
   "execution_count": 18,
   "metadata": {},
   "outputs": [
    {
     "name": "stdout",
     "output_type": "stream",
     "text": [
      "   ID     Name   Salary\n",
      "0   1    Alice      NaN\n",
      "1   2      Bob  60000.0\n",
      "2   3  Charlie  70000.0\n"
     ]
    }
   ],
   "source": [
    "left_join = pd.merge(df1,df2,how='left') #keep the data of the first dataset and merge the data that can match with the second dataset\n",
    "print(left_join)"
   ]
  },
  {
   "cell_type": "code",
   "execution_count": 15,
   "metadata": {},
   "outputs": [
    {
     "name": "stdout",
     "output_type": "stream",
     "text": [
      "   ID     Name  Salary\n",
      "0   2      Bob   60000\n",
      "1   3  Charlie   70000\n",
      "2   4      NaN   80000\n"
     ]
    }
   ],
   "source": [
    "right_join = pd.merge(df1,df2,how='right') #keep the data of the second dataset and merge the data that can match with the first dataset\n",
    "print(right_join)"
   ]
  },
  {
   "cell_type": "code",
   "execution_count": 19,
   "metadata": {},
   "outputs": [
    {
     "name": "stdout",
     "output_type": "stream",
     "text": [
      "   ID     Name   Salary\n",
      "0   1    Alice      NaN\n",
      "1   2      Bob  60000.0\n",
      "2   3  Charlie  70000.0\n",
      "3   4      NaN  80000.0\n"
     ]
    }
   ],
   "source": [
    "outer_join = pd.merge(df1,df2,how='outer') #Keep both of their data and fill the non-matches with \"NaN\"\n",
    "print(outer_join)"
   ]
  },
  {
   "cell_type": "code",
   "execution_count": 20,
   "metadata": {},
   "outputs": [],
   "source": [
    "# 1. Create DataFrame\n",
    "data = {'Name': ['Alice', 'Bob', 'Charlie', 'David', 'Eve'], \n",
    "        'Age': [25, 30, 35, 40, 45], \n",
    "        'Salary': [50000, 60000, 70000, 80000, 90000]}\n",
    "df = pd.DataFrame(data)"
   ]
  },
  {
   "cell_type": "code",
   "execution_count": 26,
   "metadata": {},
   "outputs": [
    {
     "name": "stdout",
     "output_type": "stream",
     "text": [
      "      Name  Age  Salary\n",
      "1      Bob   30   60000\n",
      "2  Charlie   35   70000\n",
      "3    David   40   80000\n",
      "\n",
      "      Name  Age  Salary\n",
      "1      Bob   30   60000\n",
      "2  Charlie   35   70000\n",
      "3    David   40   80000\n"
     ]
    }
   ],
   "source": [
    "firstQuery = df.query(\"Age>= 30 and Age <= 40 \")\n",
    "print(firstQuery)\n",
    "print()\n",
    "\n",
    "age_filter = df[(df['Age'] >= 30) & (df['Age'] <= 40)]\n",
    "print(age_filter)"
   ]
  },
  {
   "cell_type": "code",
   "execution_count": 46,
   "metadata": {},
   "outputs": [
    {
     "name": "stdout",
     "output_type": "stream",
     "text": [
      "      Name  Age  Salary\n",
      "0    Alice   25   50000\n",
      "2  Charlie   35   70000\n"
     ]
    }
   ],
   "source": [
    "secondQuery = df.query(\"Name.str[0] == 'A' or Name.str[0] == 'C'\")\n",
    "\n",
    "nameFilter = df[(df['Name'].str[0] == 'A') | (df['Name'].str[0] == 'C' )]\n",
    "\n",
    "name_filter = df[df['Name'].str.startswith(('A', 'C'))] # you can fill it with a list\n",
    "\n",
    "print(secondQuery)"
   ]
  },
  {
   "cell_type": "code",
   "execution_count": 47,
   "metadata": {},
   "outputs": [],
   "source": [
    "# 1. Create DataFrame\n",
    "data = {'Department': ['HR', 'HR', 'Tech', 'Tech', 'Finance'], \n",
    "        'Employee': ['Alice', 'Bob', 'Charlie', 'David', 'Eve'], \n",
    "        'Salary': [50000, 55000, 70000, 75000, 60000]}\n",
    "df = pd.DataFrame(data)\n"
   ]
  },
  {
   "cell_type": "code",
   "execution_count": 58,
   "metadata": {},
   "outputs": [
    {
     "name": "stdout",
     "output_type": "stream",
     "text": [
      "                        mean\n",
      "                      Salary\n",
      "Department Employee         \n",
      "Finance    Eve       60000.0\n",
      "HR         Alice     50000.0\n",
      "           Bob       55000.0\n",
      "Tech       Charlie   70000.0\n",
      "           David     75000.0 \n",
      "\n",
      "                mean                                    \n",
      "             Salary                                    \n",
      "Employee      Alice      Bob  Charlie    David      Eve\n",
      "Department                                             \n",
      "Finance         NaN      NaN      NaN      NaN  60000.0\n",
      "HR          50000.0  55000.0      NaN      NaN      NaN\n",
      "Tech            NaN      NaN  70000.0  75000.0      NaN\n"
     ]
    }
   ],
   "source": [
    "pivot = df.pivot_table(values=['Salary'], index=['Department','Employee'], aggfunc=['mean'])\n",
    "\n",
    "secondPivot = df.pivot_table(values=['Salary'], index=['Department'], columns=['Employee'],  aggfunc=['mean'])\n",
    "\n",
    "print(pivot, \"\\n\\n\", secondPivot)"
   ]
  }
 ],
 "metadata": {
  "kernelspec": {
   "display_name": "Python 3",
   "language": "python",
   "name": "python3"
  },
  "language_info": {
   "codemirror_mode": {
    "name": "ipython",
    "version": 3
   },
   "file_extension": ".py",
   "mimetype": "text/x-python",
   "name": "python",
   "nbconvert_exporter": "python",
   "pygments_lexer": "ipython3",
   "version": "3.11.9"
  }
 },
 "nbformat": 4,
 "nbformat_minor": 2
}
