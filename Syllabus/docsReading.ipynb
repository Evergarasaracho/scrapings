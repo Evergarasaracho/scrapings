{
 "cells": [
  {
   "cell_type": "markdown",
   "metadata": {},
   "source": [
    "# <span style=color:blue>**Reading spreadsheets with python**</span>"
   ]
  },
  {
   "cell_type": "markdown",
   "metadata": {},
   "source": [
    "<span style=\"Color:blue\">One of the most popular ways to store data is through spreadsheets. Two of the most commons softwares are Excel and Google Sheets. Files are exported through these programs using one of those formats:</span>\n",
    "\n",
    "<span style=\"Color:blue\">\n",
    "\n",
    "1. **.xls**\n",
    "2. **.xlsx**\n",
    "3. **.csv**\n",
    "</span>\n",
    "\n",
    "<span style=\"Color:blue\">\n",
    "\n",
    "Even if a company uses a special software, the way ot will export most of it's data will be through one of those formats. That is why is so important know how to read all of that formats. </span>"
   ]
  },
  {
   "cell_type": "code",
   "execution_count": 4,
   "metadata": {},
   "outputs": [],
   "source": [
    "import pandas as pd"
   ]
  },
  {
   "cell_type": "markdown",
   "metadata": {},
   "source": [
    "<span style=\"color:blue\">**.XLSX and .XLS**</span>\n",
    "\n",
    "<span style=\"color:blue\">XLSX is the newest version of excel, it has a stronger compressor than a XLS and even it offers more compatibility with other spreadsheet softwares</span>"
   ]
  },
  {
   "cell_type": "code",
   "execution_count": 5,
   "metadata": {},
   "outputs": [
    {
     "name": "stdout",
     "output_type": "stream",
     "text": [
      "                                  Titulo  \\\n",
      "0                   A Light in the Attic   \n",
      "1                     Tipping the Velvet   \n",
      "2                             Soumission   \n",
      "3                          Sharp Objects   \n",
      "4  Sapiens: A Brief History of Humankind   \n",
      "\n",
      "                                                 URL  Rate  Prices     Stock  \n",
      "0  ../media/cache/2c/da/2cdad67c44b002e7ead0cc356...     3   51.77  In stock  \n",
      "1  ../media/cache/26/0c/260c6ae16bce31c8f8c95dadd...     1   53.74  In stock  \n",
      "2  ../media/cache/3e/ef/3eef99c9d9adef34639f51066...     1   50.10  In stock  \n",
      "3  ../media/cache/32/51/3251cf3a3412f53f339e42cac...     4   47.82  In stock  \n",
      "4  ../media/cache/be/a5/bea5697f2534a2f86a3ef27b5...     5   54.23  In stock  \n"
     ]
    }
   ],
   "source": [
    "# .xlsx\n",
    "dataXlsx = pd.read_excel(r'C:\\Users\\Carlo\\OneDrive\\Documents\\dataTable.xlsx')\n",
    "print(dataXlsx.head())"
   ]
  },
  {
   "cell_type": "markdown",
   "metadata": {},
   "source": [
    "<span style=\"Color:blue\">**.CSV**</span>\n",
    "\n",
    "<span style=\"Color:blue\"> A CSV file has a particular format, it resume the data replacing spaces for commas (\",\") and that means that all the row will be resumed at just one cell, even if we fave data in A1:D1 all the data will be written in the cell A1. That blueuce all the size of the storage. It's important know that when we upload the data into a spreadsheet software it will interprate commas as space.</span>"
   ]
  },
  {
   "cell_type": "code",
   "execution_count": 6,
   "metadata": {},
   "outputs": [
    {
     "name": "stdout",
     "output_type": "stream",
     "text": [
      "                                  Titulo  \\\n",
      "0                   A Light in the Attic   \n",
      "1                     Tipping the Velvet   \n",
      "2                             Soumission   \n",
      "3                          Sharp Objects   \n",
      "4  Sapiens: A Brief History of Humankind   \n",
      "\n",
      "                                                 URL  Rate  Prices     Stock  \n",
      "0  ../media/cache/2c/da/2cdad67c44b002e7ead0cc356...     3   51.77  In stock  \n",
      "1  ../media/cache/26/0c/260c6ae16bce31c8f8c95dadd...     1   53.74  In stock  \n",
      "2  ../media/cache/3e/ef/3eef99c9d9adef34639f51066...     1   50.10  In stock  \n",
      "3  ../media/cache/32/51/3251cf3a3412f53f339e42cac...     4   47.82  In stock  \n",
      "4  ../media/cache/be/a5/bea5697f2534a2f86a3ef27b5...     5   54.23  In stock  \n"
     ]
    }
   ],
   "source": [
    "# .xlsx\n",
    "dataCsv = pd.read_csv(r'C:\\Users\\Carlo\\OneDrive\\Documents\\dataTable.csv')\n",
    "print(dataCsv.head())"
   ]
  },
  {
   "cell_type": "markdown",
   "metadata": {},
   "source": [
    "### <span style=\"color:blue\">.txt </span>\n",
    "\n",
    "<span style=\"color:blue\">A txt file is not necessary the smallest document but it means that all its data will be a string, no mather if it has digits, it will be treated as a string. </span>"
   ]
  }
 ],
 "metadata": {
  "kernelspec": {
   "display_name": "Python 3",
   "language": "python",
   "name": "python3"
  },
  "language_info": {
   "codemirror_mode": {
    "name": "ipython",
    "version": 3
   },
   "file_extension": ".py",
   "mimetype": "text/x-python",
   "name": "python",
   "nbconvert_exporter": "python",
   "pygments_lexer": "ipython3",
   "version": "3.11.9"
  }
 },
 "nbformat": 4,
 "nbformat_minor": 2
}
